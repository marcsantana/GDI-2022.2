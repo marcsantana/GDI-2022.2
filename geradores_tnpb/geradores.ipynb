{
 "cells": [
  {
   "cell_type": "code",
   "execution_count": 2,
   "metadata": {},
   "outputs": [],
   "source": [
    "import random as rnd\n",
    "import pandas as pd"
   ]
  },
  {
   "attachments": {},
   "cell_type": "markdown",
   "metadata": {},
   "source": [
    "### Gerando Usuários"
   ]
  },
  {
   "cell_type": "code",
   "execution_count": null,
   "metadata": {},
   "outputs": [],
   "source": [
    "def gerar_cpfs():\n",
    "  arq = open('cpfs.txt', 'w')\n",
    "  cpfs_gerados = []\n",
    "  for i in range(1000):\n",
    "    cpf_str = \"\"\n",
    "    for i in range(11):\n",
    "      cpf_str += str(rnd.randint(0, 9))\n",
    "    cpfs_gerados.append(cpf_str + '\\n')\n",
    "  arq.writelines(cpfs_gerados)\n",
    "  arq.close()"
   ]
  },
  {
   "cell_type": "code",
   "execution_count": null,
   "metadata": {},
   "outputs": [],
   "source": [
    "def gerar_idades():\n",
    "  arq = open('idades.txt', 'w')\n",
    "  idades_geradas = []\n",
    "  for i in range(1000):\n",
    "    idade = str(rnd.randint(18, 100))\n",
    "    idades_geradas.append(idade + '\\n')\n",
    "  arq.writelines(idades_geradas)\n",
    "  arq.close()"
   ]
  },
  {
   "cell_type": "code",
   "execution_count": 30,
   "metadata": {},
   "outputs": [],
   "source": [
    "def gerar_nomes():\n",
    "  arq = open('nomes.txt', 'w')\n",
    "  nomes_ini_df = pd.read_csv('nomes_iniciais.csv')\n",
    "  nomes_ini_list = list(nomes_ini_df['nome'])\n",
    "  sobrenomes_df = pd.read_csv('sobrenomes.csv')\n",
    "  sobrenomes_list = list(sobrenomes_df.iloc[:,0])\n",
    "  for i in range(1000):\n",
    "    primeiro_nome = rnd.choice(nomes_ini_list)\n",
    "    sobrenome = rnd.choice(sobrenomes_list)\n",
    "    arq.write(primeiro_nome + ' ' + sobrenome + '\\n')\n",
    "  arq.close()"
   ]
  },
  {
   "cell_type": "code",
   "execution_count": 35,
   "metadata": {},
   "outputs": [],
   "source": [
    "def gerar_usuarios():\n",
    "  arq = open('Usuarios.txt', 'w')\n",
    "  cpfs_f = open('cpfs.txt', 'r')\n",
    "  idades_f = open('idades.txt', 'r')\n",
    "  nomes_f = open('nomes.txt', 'r')\n",
    "  for cpf, idade, nome in zip(cpfs_f.readlines(), idades_f.readlines(), nomes_f.readlines()):\n",
    "    cpf, idade, nome = cpf.strip('\\n'), idade.strip('\\n'), nome.strip('\\n')\n",
    "    arq.write(cpf + ' ' + idade + ' ' + nome + '\\n')\n",
    "  cpfs_f.close()\n",
    "  idades_f.close()\n",
    "  nomes_f.close()"
   ]
  },
  {
   "attachments": {},
   "cell_type": "markdown",
   "metadata": {},
   "source": [
    "### Gerando Logradouros"
   ]
  },
  {
   "cell_type": "code",
   "execution_count": 4,
   "metadata": {},
   "outputs": [
    {
     "data": {
      "text/html": [
       "<div>\n",
       "<style scoped>\n",
       "    .dataframe tbody tr th:only-of-type {\n",
       "        vertical-align: middle;\n",
       "    }\n",
       "\n",
       "    .dataframe tbody tr th {\n",
       "        vertical-align: top;\n",
       "    }\n",
       "\n",
       "    .dataframe thead th {\n",
       "        text-align: right;\n",
       "    }\n",
       "</style>\n",
       "<table border=\"1\" class=\"dataframe\">\n",
       "  <thead>\n",
       "    <tr style=\"text-align: right;\">\n",
       "      <th></th>\n",
       "      <th>CEP</th>\n",
       "      <th>Tipo_Logradouro</th>\n",
       "      <th>Logradouro</th>\n",
       "      <th>Cidade</th>\n",
       "      <th>UF</th>\n",
       "      <th>Estado</th>\n",
       "    </tr>\n",
       "  </thead>\n",
       "  <tbody>\n",
       "    <tr>\n",
       "      <th>1</th>\n",
       "      <td>01227200</td>\n",
       "      <td>Avenida</td>\n",
       "      <td>Angélica</td>\n",
       "      <td>São Paulo</td>\n",
       "      <td>SP</td>\n",
       "      <td>São Paulo</td>\n",
       "    </tr>\n",
       "    <tr>\n",
       "      <th>2</th>\n",
       "      <td>01251000</td>\n",
       "      <td>Rua</td>\n",
       "      <td>Cardoso de Almeida</td>\n",
       "      <td>São Paulo</td>\n",
       "      <td>SP</td>\n",
       "      <td>São Paulo</td>\n",
       "    </tr>\n",
       "    <tr>\n",
       "      <th>3</th>\n",
       "      <td>01255010</td>\n",
       "      <td>Rua</td>\n",
       "      <td>Antonina</td>\n",
       "      <td>São Paulo</td>\n",
       "      <td>SP</td>\n",
       "      <td>São Paulo</td>\n",
       "    </tr>\n",
       "    <tr>\n",
       "      <th>4</th>\n",
       "      <td>01308040</td>\n",
       "      <td>Rua</td>\n",
       "      <td>São Miguel</td>\n",
       "      <td>São Paulo</td>\n",
       "      <td>SP</td>\n",
       "      <td>São Paulo</td>\n",
       "    </tr>\n",
       "    <tr>\n",
       "      <th>8</th>\n",
       "      <td>01426040</td>\n",
       "      <td>Travessa</td>\n",
       "      <td>das Estrelas Novas</td>\n",
       "      <td>São Paulo</td>\n",
       "      <td>SP</td>\n",
       "      <td>São Paulo</td>\n",
       "    </tr>\n",
       "  </tbody>\n",
       "</table>\n",
       "</div>"
      ],
      "text/plain": [
       "        CEP Tipo_Logradouro          Logradouro     Cidade  UF     Estado\n",
       "1  01227200         Avenida            Angélica  São Paulo  SP  São Paulo\n",
       "2  01251000             Rua  Cardoso de Almeida  São Paulo  SP  São Paulo\n",
       "3  01255010             Rua            Antonina  São Paulo  SP  São Paulo\n",
       "4  01308040             Rua          São Miguel  São Paulo  SP  São Paulo\n",
       "8  01426040        Travessa  das Estrelas Novas  São Paulo  SP  São Paulo"
      ]
     },
     "execution_count": 4,
     "metadata": {},
     "output_type": "execute_result"
    }
   ],
   "source": [
    "df_logradouros = pd.read_excel(\"logradouros.xlsx\", dtype=str)\n",
    "df_logradouros = df_logradouros.drop(columns=['Local', 'Bairro', \n",
    "'cod_estado', 'Latitude', 'Longitude', 'Complemento', 'cod_cidade'])\n",
    "df_logradouros = df_logradouros.dropna()\n",
    "df_logradouros.head()"
   ]
  },
  {
   "cell_type": "code",
   "execution_count": 5,
   "metadata": {},
   "outputs": [],
   "source": [
    "def gerar_endereços():\n",
    "  arq = open('Endereços2.txt', 'w')\n",
    "  endereços = []\n",
    "  lista_end = list(df_logradouros.itertuples(index=False, name=None))\n",
    "  for cep, rua, comp_rua, cidade, uf ,estado in lista_end:\n",
    "    endereços.append(f\"{cep};{rua} {comp_rua};{cidade};{estado};{uf}\\n\")\n",
    "  arq.writelines(endereços)\n",
    "  arq.close()"
   ]
  },
  {
   "cell_type": "code",
   "execution_count": 6,
   "metadata": {},
   "outputs": [],
   "source": [
    "gerar_endereços()"
   ]
  },
  {
   "cell_type": "code",
   "execution_count": 8,
   "metadata": {},
   "outputs": [],
   "source": [
    "def gerar_logradouros():\n",
    "  cpf_arq = open('cpfs.txt', 'r')\n",
    "  end_arq = open('Endereços2.txt', 'r')\n",
    "  cpfs, endereços = cpf_arq.readlines(), end_arq.readlines()\n",
    "  cpf_arq.close()\n",
    "  end_arq.close()\n",
    "  arq = open('Logradouro2.txt', 'w')\n",
    "  for i in range(1000):\n",
    "    cpf = cpfs[i].strip('\\n')\n",
    "    cep, rua, cidade, estado, uf = rnd.choice(endereços).split(';')\n",
    "    arq.write(f\"{cpf};{cep};{rua};{cidade};{estado};{uf}\")\n",
    "  arq.close()"
   ]
  },
  {
   "cell_type": "code",
   "execution_count": 9,
   "metadata": {},
   "outputs": [],
   "source": [
    "gerar_logradouros()"
   ]
  },
  {
   "attachments": {},
   "cell_type": "markdown",
   "metadata": {},
   "source": [
    "### Gerar Contato"
   ]
  },
  {
   "cell_type": "code",
   "execution_count": 7,
   "metadata": {},
   "outputs": [
    {
     "data": {
      "text/plain": [
       "[[11, 'SP'],\n",
       " [21, 'RJ'],\n",
       " [27, 'ES'],\n",
       " [31, 'MG'],\n",
       " [41, 'PR'],\n",
       " [47, 'SC'],\n",
       " [51, 'RS'],\n",
       " [61, 'DF'],\n",
       " [62, 'GO'],\n",
       " [63, 'TO'],\n",
       " [65, 'MT'],\n",
       " [67, 'MS'],\n",
       " [68, 'AC'],\n",
       " [69, 'RO'],\n",
       " [71, 'BA'],\n",
       " [79, 'SE'],\n",
       " [81, 'PE'],\n",
       " [82, 'AL'],\n",
       " [83, 'PB'],\n",
       " [84, 'RN'],\n",
       " [85, 'CE'],\n",
       " [86, 'PI'],\n",
       " [91, 'PA'],\n",
       " [92, 'AM'],\n",
       " [95, 'RR'],\n",
       " [96, 'AP'],\n",
       " [98, 'MA']]"
      ]
     },
     "execution_count": 7,
     "metadata": {},
     "output_type": "execute_result"
    }
   ],
   "source": [
    "df_dds = pd.read_csv('ddd_estados.csv', delimiter=';')\n",
    "df_dds.to_dict('tight')['data']"
   ]
  },
  {
   "cell_type": "code",
   "execution_count": 16,
   "metadata": {},
   "outputs": [],
   "source": [
    "def gerar_telefones():\n",
    "  end_f = open('Logradouro2.txt','r')\n",
    "  endereços = end_f.readlines()\n",
    "  end_f.close()\n",
    "  df_dds = pd.read_csv('ddd_estados.csv', delimiter=';')\n",
    "  list_ddd = df_dds.to_dict('tight')['data']\n",
    "  ddd_dicio = dict()\n",
    "  for ddd, uf in list_ddd:\n",
    "    ddd_dicio[uf] = str(ddd)\n",
    "  with open('Contato.txt', 'w') as f:\n",
    "    for i in range(1000):\n",
    "      cpf, cep, rua, cidade, estado, uf = rnd.choice(endereços).split(';')\n",
    "      uf = uf.strip('\\n')\n",
    "      telefone = str(ddd_dicio[uf]) + '9'\n",
    "      for i in range(8):\n",
    "        telefone += str(rnd.randint(0, 9))\n",
    "      f.write(f\"{cpf};{telefone}\\n\")"
   ]
  },
  {
   "cell_type": "code",
   "execution_count": 17,
   "metadata": {},
   "outputs": [],
   "source": [
    "gerar_telefones()"
   ]
  },
  {
   "cell_type": "code",
   "execution_count": 18,
   "metadata": {},
   "outputs": [],
   "source": [
    "def gerar_compositores():\n",
    "    with open('Usuarios.txt', 'r') as r_f:\n",
    "        with open('Compositor.txt', 'w') as w_f:\n",
    "            usr_lines = r_f.readlines()\n",
    "            usr_lines = [t.split(' ')[0] for t in usr_lines]\n",
    "            comp_cpfs = rnd.sample(usr_lines, 250)\n",
    "            for cpf in comp_cpfs:\n",
    "                w_f.write(cpf + '\\n')"
   ]
  },
  {
   "cell_type": "code",
   "execution_count": 19,
   "metadata": {},
   "outputs": [],
   "source": [
    "gerar_compositores()"
   ]
  },
  {
   "cell_type": "code",
   "execution_count": 30,
   "metadata": {},
   "outputs": [],
   "source": [
    "def gerar_musico():\n",
    "    with open('Musico.txt', 'w') as f:\n",
    "        nomes_art = []\n",
    "        with open('nomes_artisticos.txt', 'r') as r_f:\n",
    "            nomes_art = r_f.readlines()\n",
    "        cpfs_selecionados = []\n",
    "        with open('cpfs.txt', 'r') as r_f:\n",
    "            cpfs_selecionados = r_f.readlines()\n",
    "        cpfs_selecionados = rnd.sample(cpfs_selecionados, 250)\n",
    "        rnd.shuffle(nomes_art)\n",
    "        nomes_art = nomes_art[:250]\n",
    "        for cpf, nome_art in zip(cpfs_selecionados, nomes_art):\n",
    "            cpf, nome_art = cpf.strip('\\n'), nome_art.strip('\\n')\n",
    "            f.write(f\"{cpf};{nome_art}\\n\")"
   ]
  },
  {
   "cell_type": "code",
   "execution_count": 31,
   "metadata": {},
   "outputs": [],
   "source": [
    "gerar_musico()"
   ]
  },
  {
   "cell_type": "code",
   "execution_count": 32,
   "metadata": {},
   "outputs": [],
   "source": [
    "def gerar_patrocinador():\n",
    "    cpfs_selecionados = []\n",
    "    with open('cpfs.txt', 'r') as r_f:\n",
    "        cpfs_selecionados = r_f.readlines()\n",
    "    cpfs_selecionados = rnd.sample(cpfs_selecionados, 250)\n",
    "    with open('Patrocinador.txt', 'w') as f:\n",
    "        for i in range(250):\n",
    "            cnpj = ''\n",
    "            for i in range(14):\n",
    "                cnpj += str(rnd.randint(0,9))\n",
    "            cpf = cpfs_selecionados[i].strip('\\n')\n",
    "            f.write(f\"{cpf};{cnpj}\\n\")\n"
   ]
  },
  {
   "cell_type": "code",
   "execution_count": 33,
   "metadata": {},
   "outputs": [],
   "source": [
    "gerar_patrocinador()"
   ]
  },
  {
   "cell_type": "code",
   "execution_count": null,
   "metadata": {},
   "outputs": [],
   "source": []
  }
 ],
 "metadata": {
  "kernelspec": {
   "display_name": "car_sales",
   "language": "python",
   "name": "python3"
  },
  "language_info": {
   "codemirror_mode": {
    "name": "ipython",
    "version": 3
   },
   "file_extension": ".py",
   "mimetype": "text/x-python",
   "name": "python",
   "nbconvert_exporter": "python",
   "pygments_lexer": "ipython3",
   "version": "3.11.2"
  },
  "orig_nbformat": 4,
  "vscode": {
   "interpreter": {
    "hash": "177c97fc5d31c13938fb592ba489b7f36f49ecf1215259ec631a2770c7444d3b"
   }
  }
 },
 "nbformat": 4,
 "nbformat_minor": 2
}
